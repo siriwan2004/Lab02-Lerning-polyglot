{
 "cells": [
  {
   "cell_type": "markdown",
   "metadata": {},
   "source": [
    "# Lab 2.2 เพิ่มความเร็วในการใช้งาน Polyglot ด้วยการใช้ keyboard shortcut "
   ]
  },
  {
   "cell_type": "markdown",
   "metadata": {},
   "source": [
    "วิธีการหนึ่งที่จะเพิ่มประสิทธิภาพในการใช้งาน polygot คือการใช้งานด้วย keyboard shortcut \n",
    "ซึ่งจะทำให้เราสามารถโฟกัสอยู่กับการพิมพ์ด้วยคีย์บอร์ดโดยที่ไม่ต้องคลิกเมาส์\n",
    "\n",
    "ในการเพิ่มเซลล์ทั้ง code cell และ markdown cell นั้นทำได้ด้วยการใช้คีย์ลัด Ctrl+shift+P  ซึ่งจะเรียก command pallette ขึ้นมา\n",
    "จากนั้นให้พิมพ์ข้อความสั้น ๆ เพื่อกรองให้เหลือเฉพาะคำสั่งที่ต้องการ\n",
    "\n",
    "> วิธีการทำ"
   ]
  },
  {
   "cell_type": "markdown",
   "metadata": {},
   "source": [
    "1. กดคีย์ลัด Ctrl + Shift + P จะปรากฏ command pallette ขึ้นมา\n",
    "2. พิมพ์ `insert code`\n",
    "3. เลือก `Notebook: Insert Code Cell Below` "
   ]
  },
  {
   "cell_type": "markdown",
   "metadata": {},
   "source": [
    "4. พิมพ์โปรแกรมลงใน code cell ดังนี้ (อย่าลืมพิมพ์บรรทัด #!Csharp ด้วย)\n",
    "\n",
    "    ```csharp\n",
    "    #!Csharp\n",
    "\n",
    "    Console.WrileLine(\"I'm now on keyboard only\");\n",
    "    ```\n"
   ]
  },
  {
   "cell_type": "markdown",
   "metadata": {},
   "source": [
    "5. เมื่อพิมพ์ code เสร็จ ให้กด Ctrl + Enter เพื่อรันโปรแกรม"
   ]
  },
  {
   "cell_type": "markdown",
   "metadata": {},
   "source": [
    "6. เราสามารถเพิ่ม mark down cell โดยการทำตามขั้นตอนที่ 1-3 แต่เปลี่ยนคำกรองในข้อ 2 เป็น `insert markdown` \n",
    "   "
   ]
  },
  {
   "cell_type": "markdown",
   "metadata": {},
   "source": [
    "> ทดลองกันเลย"
   ]
  },
  {
   "cell_type": "code",
   "execution_count": null,
   "metadata": {},
   "outputs": [
    {
     "name": "stdout",
     "output_type": "stream",
     "text": [
      "I'm now on keyboard only\r\n"
     ]
    }
   ],
   "source": [
    "#!csharp\n",
    "Console.WriteLine(\"I'm now on keyboard only\");"
   ]
  },
  {
   "cell_type": "markdown",
   "metadata": {},
   "source": []
  }
 ],
 "metadata": {
  "kernelspec": {
   "display_name": ".NET (C#)",
   "language": "C#",
   "name": ".net-csharp"
  },
  "polyglot_notebook": {
   "kernelInfo": {
    "defaultKernelName": "csharp",
    "items": [
     {
      "aliases": [],
      "languageName": "csharp",
      "name": "csharp"
     }
    ]
   }
  }
 },
 "nbformat": 4,
 "nbformat_minor": 2
}
